{
 "cells": [
  {
   "cell_type": "markdown",
   "metadata": {
    "toc": true
   },
   "source": [
    "<h1>Table of Contents<span class=\"tocSkip\"></span></h1>\n",
    "<div class=\"toc\"><ul class=\"toc-item\"><li><span><a href=\"#Refactoring\" data-toc-modified-id=\"Refactoring-1\"><span class=\"toc-item-num\">1&nbsp;&nbsp;</span>Refactoring</a></span></li></ul></div>"
   ]
  },
  {
   "cell_type": "markdown",
   "metadata": {},
   "source": [
    "# Refactoring\n",
    "\n",
    "As the code may be modified later, I want to refactor from the jupyter notebook to a Python script. Thus I create a file ``main.py``:"
   ]
  },
  {
   "cell_type": "code",
   "execution_count": 4,
   "metadata": {
    "ExecuteTime": {
     "end_time": "2020-09-07T15:30:38.588864Z",
     "start_time": "2020-09-07T15:30:35.267450Z"
    }
   },
   "outputs": [
    {
     "name": "stdout",
     "output_type": "stream",
     "text": [
      "   post_id  parent_id  comment_id  \\\n",
      "0        1        NaN         NaN   \n",
      "1        2        NaN         NaN   \n",
      "2        3        NaN         NaN   \n",
      "3        4        NaN         NaN   \n",
      "4        6        NaN         NaN   \n",
      "\n",
      "                                                text category  \n",
      "0                      Eliciting priors from experts    title  \n",
      "1                                 What is normality?    title  \n",
      "2  What are some valuable Statistical Analysis op...    title  \n",
      "3  Assessing the significance of differences in d...    title  \n",
      "4  The Two Cultures: statistics vs. machine learn...    title  \n"
     ]
    }
   ],
   "source": [
    "import pandas as pd\n",
    "\n",
    "\n",
    "def clean_csv(filename: str) -> pd.DataFrame:\n",
    "    df = pd.read_csv(filename)\n",
    "    return df\n",
    "\n",
    "\n",
    "if __name__ == \"__main__\":\n",
    "    filename = \"../input/raw/stackexchange_812k.csv\"\n",
    "    cleaned = clean_csv(filename)\n",
    "    print(cleaned.head())"
   ]
  },
  {
   "cell_type": "code",
   "execution_count": null,
   "metadata": {},
   "outputs": [],
   "source": []
  }
 ],
 "metadata": {
  "kernelspec": {
   "display_name": "Python 3",
   "language": "python",
   "name": "python3"
  },
  "language_info": {
   "codemirror_mode": {
    "name": "ipython",
    "version": 3
   },
   "file_extension": ".py",
   "mimetype": "text/x-python",
   "name": "python",
   "nbconvert_exporter": "python",
   "pygments_lexer": "ipython3",
   "version": "3.6.9"
  },
  "toc": {
   "base_numbering": 1,
   "nav_menu": {},
   "number_sections": true,
   "sideBar": true,
   "skip_h1_title": false,
   "title_cell": "Table of Contents",
   "title_sidebar": "Contents",
   "toc_cell": true,
   "toc_position": {},
   "toc_section_display": true,
   "toc_window_display": false
  }
 },
 "nbformat": 4,
 "nbformat_minor": 4
}
